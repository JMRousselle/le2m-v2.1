{
 "cells": [
  {
   "cell_type": "code",
   "execution_count": 1,
   "metadata": {
    "collapsed": false
   },
   "outputs": [
    {
     "name": "stderr",
     "output_type": "stream",
     "text": [
      "Logger questcomp créé\n",
      "INFO:questcomp:Logger questcomp créé\n"
     ]
    }
   ],
   "source": [
    "from xml.etree import ElementTree\n",
    "import sys\n",
    "sys.path.append(\"/home/irtimid/Documents/travail/programmes/le2m-v2.1/\")\n",
    "from questcomp import questcompmod"
   ]
  },
  {
   "cell_type": "code",
   "execution_count": 2,
   "metadata": {
    "collapsed": true
   },
   "outputs": [],
   "source": [
    "xmlfile = \"/home/irtimid/Documents/travail/programmes/le2mProgrammes-v2.0/revVolInfoCpr/questComprehension/sansInformation.xlm.xml\""
   ]
  },
  {
   "cell_type": "code",
   "execution_count": 3,
   "metadata": {
    "collapsed": false
   },
   "outputs": [
    {
     "name": "stderr",
     "output_type": "stream",
     "text": [
      "Questionnaire: <xml.etree.ElementTree.ElementTree object at 0x7f43c0809390>\n",
      "DEBUG:questcomp:Questionnaire: <xml.etree.ElementTree.ElementTree object at 0x7f43c0809390>\n",
      "The questionnaire has 2 questions\n",
      "INFO:questcomp:The questionnaire has 2 questions\n",
      "Add question: Number 1\n",
      "Text: Chaque membre du groupe peut extraire du compte collectif n'importe quel nombre de jetons compris entre 0 et les 40 jetons que contient ce compte.\n",
      "Proposals: vrai | faux\n",
      "Good answers: faux\n",
      "Explanation: Chaque membre du groupe peut au maximum extraire 10 jetons.\n",
      "INFO:questcomp:Add question: Number 1\n",
      "Text: Chaque membre du groupe peut extraire du compte collectif n'importe quel nombre de jetons compris entre 0 et les 40 jetons que contient ce compte.\n",
      "Proposals: vrai | faux\n",
      "Good answers: faux\n",
      "Explanation: Chaque membre du groupe peut au maximum extraire 10 jetons.\n",
      "Add question: Number 2\n",
      "Text: Si vous extrayez 4 jetons du compte collectif, et qu'au total votre groupe en extrait 8, votre gain est de \n",
      "Proposals: 4 ecus | 8 ecus | 40 ecus | 40,80 ecus\n",
      "Good answers: 40,80 ecus\n",
      "Explanation: Si vous regardez dans le tableau de gains, votre extraction est de 4 jetons (colonne 4) et l'extraction totale du groupe de 8 (ligne 8). L'intersection de la colonne et de la ligne vous indique que votre gain est de 40,80 ecus. Vous pouvez aussi vérifier en calculant ce gain: 30 + 4*3 - 0.01875*8^2 = 40,80 ecus.\n",
      "INFO:questcomp:Add question: Number 2\n",
      "Text: Si vous extrayez 4 jetons du compte collectif, et qu'au total votre groupe en extrait 8, votre gain est de \n",
      "Proposals: 4 ecus | 8 ecus | 40 ecus | 40,80 ecus\n",
      "Good answers: 40,80 ecus\n",
      "Explanation: Si vous regardez dans le tableau de gains, votre extraction est de 4 jetons (colonne 4) et l'extraction totale du groupe de 8 (ligne 8). L'intersection de la colonne et de la ligne vous indique que votre gain est de 40,80 ecus. Vous pouvez aussi vérifier en calculant ce gain: 30 + 4*3 - 0.01875*8^2 = 40,80 ecus.\n"
     ]
    }
   ],
   "source": [
    "questions = questcompmod.get_questions(xmlfile)"
   ]
  },
  {
   "cell_type": "code",
   "execution_count": 4,
   "metadata": {
    "collapsed": false
   },
   "outputs": [
    {
     "data": {
      "text/plain": [
       "2"
      ]
     },
     "execution_count": 4,
     "metadata": {},
     "output_type": "execute_result"
    }
   ],
   "source": [
    "questionnaire = ElementTree.parse(xmlfile)\n",
    "len(questionnaire.findall(\"question\"))"
   ]
  }
 ],
 "metadata": {
  "kernelspec": {
   "display_name": "Python 2",
   "language": "python",
   "name": "python2"
  },
  "language_info": {
   "codemirror_mode": {
    "name": "ipython",
    "version": 2
   },
   "file_extension": ".py",
   "mimetype": "text/x-python",
   "name": "python",
   "nbconvert_exporter": "python",
   "pygments_lexer": "ipython2",
   "version": "2.7.6"
  }
 },
 "nbformat": 4,
 "nbformat_minor": 0
}
