{
 "cells": [
  {
   "cell_type": "code",
   "execution_count": 11,
   "metadata": {
    "collapsed": true
   },
   "outputs": [],
   "source": [
    "import sys\n",
    "sys.path.append(\"/home/irtimid/Documents/travail/programmes/le2m-v2.1/extractor/\")\n",
    "import extractor\n",
    "import sqlite3\n",
    "import numpy as np\n",
    "import pandas as pd\n",
    "import matplotlib.pyplot as plt\n",
    "%matplotlib inline"
   ]
  },
  {
   "cell_type": "code",
   "execution_count": 20,
   "metadata": {
    "collapsed": false
   },
   "outputs": [
    {
     "data": {
      "text/plain": [
       "[u'partie_questionnaireFinal', u'partie_GneezyPotter_repetitions']"
      ]
     },
     "execution_count": 20,
     "metadata": {},
     "output_type": "execute_result"
    }
   ],
   "source": [
    "datafile = sqlite3.connect(\"data.sqlite\")\n",
    "parts = extractor.get_splittedparts(extractor.get_parts(datafile))\n",
    "parts"
   ]
  },
  {
   "cell_type": "code",
   "execution_count": 21,
   "metadata": {
    "collapsed": false
   },
   "outputs": [
    {
     "data": {
      "text/html": [
       "<div style=\"max-height:1000px;max-width:1500px;overflow:auto;\">\n",
       "<table border=\"1\" class=\"dataframe\">\n",
       "  <thead>\n",
       "    <tr style=\"text-align: right;\">\n",
       "      <th></th>\n",
       "      <th>session</th>\n",
       "      <th>joueur</th>\n",
       "      <th>id</th>\n",
       "      <th>partie_partie_id</th>\n",
       "      <th>GP_period</th>\n",
       "      <th>GP_treatment</th>\n",
       "      <th>GP_dotation</th>\n",
       "      <th>GP_decision</th>\n",
       "      <th>GP_decisiontime</th>\n",
       "      <th>GP_randomdraw</th>\n",
       "      <th>GP_periodpayoff</th>\n",
       "      <th>GP_cumulativepayoff</th>\n",
       "    </tr>\n",
       "  </thead>\n",
       "  <tbody>\n",
       "    <tr>\n",
       "      <th>0</th>\n",
       "      <td> 201509211436</td>\n",
       "      <td> 201509211436_j_6</td>\n",
       "      <td> 5</td>\n",
       "      <td> 41</td>\n",
       "      <td> 0</td>\n",
       "      <td> 0</td>\n",
       "      <td> 10</td>\n",
       "      <td> 5</td>\n",
       "      <td> 0</td>\n",
       "      <td> 0</td>\n",
       "      <td> 20</td>\n",
       "      <td> 20</td>\n",
       "    </tr>\n",
       "    <tr>\n",
       "      <th>1</th>\n",
       "      <td> 201509211436</td>\n",
       "      <td> 201509211436_j_2</td>\n",
       "      <td> 9</td>\n",
       "      <td> 42</td>\n",
       "      <td> 0</td>\n",
       "      <td> 0</td>\n",
       "      <td> 10</td>\n",
       "      <td> 5</td>\n",
       "      <td> 0</td>\n",
       "      <td> 1</td>\n",
       "      <td>  5</td>\n",
       "      <td>  5</td>\n",
       "    </tr>\n",
       "    <tr>\n",
       "      <th>2</th>\n",
       "      <td> 201509211436</td>\n",
       "      <td> 201509211436_j_4</td>\n",
       "      <td> 3</td>\n",
       "      <td> 43</td>\n",
       "      <td> 0</td>\n",
       "      <td> 0</td>\n",
       "      <td> 10</td>\n",
       "      <td> 6</td>\n",
       "      <td> 0</td>\n",
       "      <td> 1</td>\n",
       "      <td>  4</td>\n",
       "      <td>  4</td>\n",
       "    </tr>\n",
       "    <tr>\n",
       "      <th>3</th>\n",
       "      <td> 201509211436</td>\n",
       "      <td> 201509211436_j_8</td>\n",
       "      <td> 1</td>\n",
       "      <td> 44</td>\n",
       "      <td> 0</td>\n",
       "      <td> 0</td>\n",
       "      <td> 10</td>\n",
       "      <td> 6</td>\n",
       "      <td> 0</td>\n",
       "      <td> 0</td>\n",
       "      <td> 22</td>\n",
       "      <td> 22</td>\n",
       "    </tr>\n",
       "    <tr>\n",
       "      <th>4</th>\n",
       "      <td> 201509211436</td>\n",
       "      <td> 201509211436_j_9</td>\n",
       "      <td> 2</td>\n",
       "      <td> 45</td>\n",
       "      <td> 0</td>\n",
       "      <td> 0</td>\n",
       "      <td> 10</td>\n",
       "      <td> 4</td>\n",
       "      <td> 0</td>\n",
       "      <td> 0</td>\n",
       "      <td> 18</td>\n",
       "      <td> 18</td>\n",
       "    </tr>\n",
       "  </tbody>\n",
       "</table>\n",
       "<p>5 rows × 12 columns</p>\n",
       "</div>"
      ],
      "text/plain": [
       "        session            joueur  id  partie_partie_id  GP_period  \\\n",
       "0  201509211436  201509211436_j_6   5                41          0   \n",
       "1  201509211436  201509211436_j_2   9                42          0   \n",
       "2  201509211436  201509211436_j_4   3                43          0   \n",
       "3  201509211436  201509211436_j_8   1                44          0   \n",
       "4  201509211436  201509211436_j_9   2                45          0   \n",
       "\n",
       "   GP_treatment  GP_dotation  GP_decision  GP_decisiontime  GP_randomdraw  \\\n",
       "0             0           10            5                0              0   \n",
       "1             0           10            5                0              1   \n",
       "2             0           10            6                0              1   \n",
       "3             0           10            6                0              0   \n",
       "4             0           10            4                0              0   \n",
       "\n",
       "   GP_periodpayoff  GP_cumulativepayoff  \n",
       "0               20                   20  \n",
       "1                5                    5  \n",
       "2                4                    4  \n",
       "3               22                   22  \n",
       "4               18                   18  \n",
       "\n",
       "[5 rows x 12 columns]"
      ]
     },
     "execution_count": 21,
     "metadata": {},
     "output_type": "execute_result"
    }
   ],
   "source": [
    "data = extractor.get_partdata(datafile, 'partie_GneezyPotter_repetitions')\n",
    "data.head()"
   ]
  },
  {
   "cell_type": "code",
   "execution_count": 22,
   "metadata": {
    "collapsed": false
   },
   "outputs": [
    {
     "data": {
      "text/plain": [
       "session       joueur           \n",
       "201509211436  201509211436_j_0      8\n",
       "              201509211436_j_1     10\n",
       "              201509211436_j_10     8\n",
       "              201509211436_j_11     3\n",
       "              201509211436_j_12     5\n",
       "              201509211436_j_13     6\n",
       "              201509211436_j_14     4\n",
       "              201509211436_j_15     8\n",
       "              201509211436_j_16     4\n",
       "              201509211436_j_17     5\n",
       "              201509211436_j_18    10\n",
       "              201509211436_j_19     7\n",
       "              201509211436_j_2      5\n",
       "              201509211436_j_3      2\n",
       "              201509211436_j_4      6\n",
       "...\n",
       "201509211503  201509211503_j_13     6\n",
       "              201509211503_j_14     4\n",
       "              201509211503_j_15     7\n",
       "              201509211503_j_16     9\n",
       "              201509211503_j_17     0\n",
       "              201509211503_j_18     3\n",
       "              201509211503_j_19     2\n",
       "              201509211503_j_2      1\n",
       "              201509211503_j_3      3\n",
       "              201509211503_j_4      9\n",
       "              201509211503_j_5      8\n",
       "              201509211503_j_6     10\n",
       "              201509211503_j_7      8\n",
       "              201509211503_j_8      3\n",
       "              201509211503_j_9      2\n",
       "Name: GP_decision, Length: 80, dtype: int64"
      ]
     },
     "execution_count": 22,
     "metadata": {},
     "output_type": "execute_result"
    }
   ],
   "source": [
    "invest = data.groupby([data.session, data.joueur]).mean()[\"GP_decision\"]\n",
    "invest"
   ]
  },
  {
   "cell_type": "code",
   "execution_count": 41,
   "metadata": {
    "collapsed": false
   },
   "outputs": [
    {
     "data": {
      "image/png": "[encoded data removed]",
      "text/plain": [
       "<matplotlib.figure.Figure at 0x7fbe9f0eec10>"
      ]
     },
     "metadata": {},
     "output_type": "display_data"
    }
   ],
   "source": [
    "sessions, joueurs = invest.index.levels\n",
    "nbrows = len(sessions)/2 if len(sessions)%2 == 0 else (len(sessions)/2) + 1\n",
    "fig = plt.figure(figsize=(10, 10))\n",
    "for c, s in enumerate(sessions):\n",
    "    graph = fig.add_subplot(nbrows, 2, c+1)\n",
    "    inv = invest.ix[s]\n",
    "    inv.plot(kind=\"bar\", ax=graph)\n",
    "    graph.set_xticklabels([\"j{}\".format(i) for i, _ in enumerate(joueurs)])\n",
    "    graph.set_ylabel(\"Amount invested\")\n",
    "    graph.set_title(\"session {}\".format(s))"
   ]
  }
 ],
 "metadata": {
  "kernelspec": {
   "display_name": "Python 2",
   "language": "python",
   "name": "python2"
  },
  "language_info": {
   "codemirror_mode": {
    "name": "ipython",
    "version": 2
   },
   "file_extension": ".py",
   "mimetype": "text/x-python",
   "name": "python",
   "nbconvert_exporter": "python",
   "pygments_lexer": "ipython2",
   "version": "2.7.6"
  }
 },
 "nbformat": 4,
 "nbformat_minor": 0
}
