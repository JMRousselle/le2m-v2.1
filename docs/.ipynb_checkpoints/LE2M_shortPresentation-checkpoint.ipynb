{
 "cells": [
  {
   "cell_type": "markdown",
   "metadata": {
    "slideshow": {
     "slide_type": "slide"
    }
   },
   "source": [
    "# LE2M\n",
    "Logiciel d'Economie Expérimentale de Montpellier  \n",
    "<table>\n",
    "    <tr>\n",
    "        <td><img src=\"docimg/python.jpg\" width=100px /></td>\n",
    "        <td><img src=\"docimg/qt.jpg\" width=100px /></td>\n",
    "        <td><img src=\"docimg/sqlite.png\" width=100px /></td>\n",
    "    </tr>\n",
    "</table>"
   ]
  },
  {
   "cell_type": "markdown",
   "metadata": {
    "slideshow": {
     "slide_type": "slide"
    }
   },
   "source": [
    "__Spécifications__\n",
    "* Python 2.7\n",
    "* Qt4\n",
    "* principales librairies:\n",
    "    * SQLAlchemy (relations Python/SQLite)\n",
    "    * Twisted (échanges réseaux)\n",
    "    * numpy, pandas, matplotlib (graphiques et analyses)"
   ]
  },
  {
   "cell_type": "markdown",
   "metadata": {
    "slideshow": {
     "slide_type": "subslide"
    }
   },
   "source": [
    "__Avantages__\n",
    "* développement rapide\n",
    "    * language peu verbeux\n",
    "    * LE2M crée le squelette d'un nouveau programme\n",
    "    * interfaces graphiques avec Qt Designer\n",
    "* flexibilité\n",
    "    * language interprété\n",
    "    * large choix de librairies pour ajout de fonctionnalités\n",
    "* orienté devéloppeurs\n",
    "* multi-plateformes"
   ]
  },
  {
   "cell_type": "markdown",
   "metadata": {
    "slideshow": {
     "slide_type": "subslide"
    }
   },
   "source": [
    "__Inconvénients__\n",
    "* le client doit disposer de Python, Qt et des libraires utilisées dans l'application (sinon machine virtuelle ou docker)\n",
    "* orienté développeurs, les chercheurs ne sont pas indépendants"
   ]
  },
  {
   "cell_type": "markdown",
   "metadata": {
    "slideshow": {
     "slide_type": "slide"
    }
   },
   "source": [
    "## Fonctionnalités"
   ]
  },
  {
   "cell_type": "markdown",
   "metadata": {
    "slideshow": {
     "slide_type": "subslide"
    }
   },
   "source": [
    "* gestion de la connexion des clients\n",
    "* pilotage des expériences\n",
    "* création de programmes\n",
    "* création de questionnaires de compréhensions \n",
    "* enregistrement des données dans bases SQLite\n",
    "* extraction de données et exportation en csv  \n",
    "* i18n"
   ]
  },
  {
   "cell_type": "markdown",
   "metadata": {
    "slideshow": {
     "slide_type": "subslide"
    }
   },
   "source": [
    "Trois modes: simulation, automatique, normal  \n",
    "* simulation: pour tester le programme sans les interfaces graphiques (décisions automatiques)\n",
    "* automatique: pour tester le programme avec les interfaces graphiques (décisions automatiques)\n",
    "* normal: pour les expériences ou tester le programme manuellement"
   ]
  },
  {
   "cell_type": "markdown",
   "metadata": {
    "slideshow": {
     "slide_type": "slide"
    }
   },
   "source": [
    "## Modèle de données pour la base SQLite"
   ]
  },
  {
   "cell_type": "markdown",
   "metadata": {
    "slideshow": {
     "slide_type": "subslide"
    }
   },
   "source": [
    "__Les relations__\n",
    "<img src=\"docimg/le2m_base.png\" width=600px />"
   ]
  },
  {
   "cell_type": "markdown",
   "metadata": {
    "slideshow": {
     "slide_type": "subslide"
    }
   },
   "source": [
    "__Ajout de parties__\n",
    "<img src=\"docimg/le2m_parts.png\" width=500px />"
   ]
  },
  {
   "cell_type": "markdown",
   "metadata": {
    "slideshow": {
     "slide_type": "slide"
    }
   },
   "source": [
    "## Le code"
   ]
  },
  {
   "cell_type": "markdown",
   "metadata": {
    "slideshow": {
     "slide_type": "subslide"
    }
   },
   "source": [
    "* les tables sont des classes dans le logiciel\n",
    "* au lancement du serveur création d'une session\n",
    "* le client se connecte au serveur -> le serveur crée un joueur -> ajout du joueur à la session puis ce joueur charge partie_base et partie_questionnairefinal"
   ]
  },
  {
   "cell_type": "markdown",
   "metadata": {
    "slideshow": {
     "slide_type": "subslide"
    }
   },
   "source": [
    "_Parties_\n",
    "* chaque partie se compose d'un morceau côté serveur, chargé par joueur, et d'un morceau côté client, chargé par \"remote\"\n",
    "* lorsque le serveur charge la partie, un sous-menu spécifique est créé et placé dans le menu \"Parties\" du serveur\n",
    "* au démarrage de la partie, les joueurs chargent la partie\n",
    "* au lancement de la partie le joueur demande au remote de charger la partie correspondante afin qu'ils puissent communiquer:  \n",
    "\n",
    "\n",
    "Exemple:   \n",
    "Serveur: charger partie dictateur -> Joueurs: chargement de la partie dictateur -> Remotes: chargement de la partie dictateur"
   ]
  },
  {
   "cell_type": "markdown",
   "metadata": {
    "slideshow": {
     "slide_type": "subslide"
    }
   },
   "source": [
    "<img src=\"docimg/le2m_afficherDecision.png\" width=\"750px\" />"
   ]
  },
  {
   "cell_type": "markdown",
   "metadata": {
    "slideshow": {
     "slide_type": "-"
    }
   },
   "source": [
    "_Joueur Partie Dictateur_: contient toutes les méthodes et attributs (dont les champs de la table) pour le jeu du dictateur  \n",
    "\n",
    "_Remote Partie Dictateur_: contient toutes les méthodes que Joueur peut appeler pour faire afficher des écrans sur les postes clients (afficher_decision, afficher_recapitulatif par exemple)."
   ]
  },
  {
   "cell_type": "markdown",
   "metadata": {
    "collapsed": false,
    "slideshow": {
     "slide_type": "subslide"
    }
   },
   "source": [
    "Une \"partie\", c'est donc 4 fichiers:\n",
    "* Serveur: lance les étapes de la partie\n",
    "* Partie: chargée par les joueurs, détermine les actions des joueurs, calcul des gains ...\n",
    "* Remote: les actions sur les postes clients, essentiellement afficher un écran\n",
    "* Gui: les interfaces graphiques\n",
    "\n",
    "Et 2 fichiers annexes:\n",
    "* Paramètres: les paramètres et variables de la partie (taux de conversion, nb de périodes ...)\n",
    "* Textes: textes des écrans (i18n avec fichiers po)"
   ]
  },
  {
   "cell_type": "markdown",
   "metadata": {
    "slideshow": {
     "slide_type": "slide"
    }
   },
   "source": [
    "## Distribution"
   ]
  },
  {
   "cell_type": "markdown",
   "metadata": {},
   "source": [
    "* sous licence [cecill](http://www.cecill.info/licences.fr.html) (logiciel libre)\n",
    "* moins de 5Mo en zip\n",
    "* webpage: http://www.duboishome.info/dimitri/index.php?page=le2m\n",
    "* fournie avec quelques parties: dictateur, public good game, gneezy potter ..."
   ]
  }
 ],
 "metadata": {
  "celltoolbar": "Slideshow",
  "kernelspec": {
   "display_name": "Python 2",
   "language": "python",
   "name": "python2"
  },
  "language_info": {
   "codemirror_mode": {
    "name": "ipython",
    "version": 2
   },
   "file_extension": ".py",
   "mimetype": "text/x-python",
   "name": "python",
   "nbconvert_exporter": "python",
   "pygments_lexer": "ipython2",
   "version": "2.7.6"
  }
 },
 "nbformat": 4,
 "nbformat_minor": 0
}
