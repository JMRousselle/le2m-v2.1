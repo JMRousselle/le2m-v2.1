{
 "cells": [
  {
   "cell_type": "markdown",
   "metadata": {},
   "source": [
    "Installation de LUbuntu à partir de fichier ubuntu_mini.iso (40 Mo)  \n",
    "Disque de 5Go, partitionnement automatique  \n",
    "Aucun paquet installé automatiquement\n",
    "LXQt (à vérifier)\n"
   ]
  },
  {
   "cell_type": "markdown",
   "metadata": {},
   "source": [
    "# Paquets"
   ]
  },
  {
   "cell_type": "markdown",
   "metadata": {},
   "source": [
    "* gcc\n",
    "* make\n",
    "* python-pyqt4 python-twisted python-sqlalchemy python-numpy python-pandas python-matplotlib\n",
    "* firefox\n"
   ]
  }
 ],
 "metadata": {
  "kernelspec": {
   "display_name": "Python 2",
   "language": "python",
   "name": "python2"
  },
  "language_info": {
   "codemirror_mode": {
    "name": "ipython",
    "version": 2
   },
   "file_extension": ".py",
   "mimetype": "text/x-python",
   "name": "python",
   "nbconvert_exporter": "python",
   "pygments_lexer": "ipython2",
   "version": "2.7.6"
  }
 },
 "nbformat": 4,
 "nbformat_minor": 0
}
